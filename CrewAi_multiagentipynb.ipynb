{
  "nbformat": 4,
  "nbformat_minor": 0,
  "metadata": {
    "colab": {
      "provenance": [],
      "gpuType": "T4"
    },
    "kernelspec": {
      "name": "python3",
      "display_name": "Python 3"
    },
    "language_info": {
      "name": "python"
    },
    "accelerator": "GPU"
  },
  "cells": [
    {
      "cell_type": "code",
      "execution_count": null,
      "metadata": {
        "id": "72lfVy8zLVV6"
      },
      "outputs": [],
      "source": [
        "!pip install -q crewai langchain-openai openai python-dotenv gradio\n"
      ]
    },
    {
      "cell_type": "code",
      "source": [
        "import os\n",
        "from google.colab import userdata\n",
        "from crewai import Agent, Task, Crew\n",
        "from langchain_openai import ChatOpenAI\n",
        "import gradio as gr\n",
        "\n"
      ],
      "metadata": {
        "id": "uXBq8jt0LlQg"
      },
      "execution_count": null,
      "outputs": []
    },
    {
      "cell_type": "code",
      "source": [],
      "metadata": {
        "id": "mRpPlmS8wqST"
      },
      "execution_count": null,
      "outputs": []
    },
    {
      "cell_type": "code",
      "source": [
        "os.environ[\"OPENAI_API_KEY\"] = userdata.get(\"OPENAI_API_KEY\")\n",
        "\n",
        "llm = ChatOpenAI(model=\"gpt-4o\", api_key=os.environ[\"OPENAI_API_KEY\"])\n"
      ],
      "metadata": {
        "id": "HXETYvwcLmLn"
      },
      "execution_count": null,
      "outputs": []
    },
    {
      "cell_type": "code",
      "source": [
        "\n",
        "\n",
        "\n",
        "# Define Agents\n",
        "mood_analyzer = Agent(\n",
        "    role=\"Mood Analyzer\",\n",
        "    goal=\"Understand the user's emotional state\",\n",
        "    backstory=\"You are skilled in emotional intelligence and psychological analysis. You interpret emotions from text input.\",\n",
        "    llm=llm\n",
        ")\n",
        "\n",
        "companion = Agent(\n",
        "    role=\"Companion\",\n",
        "    goal=\"Offer emotional support\",\n",
        "    backstory=\"You are a friendly and caring virtual companion who can provide supportive responses to users based on their emotional state.\",\n",
        "    llm=llm\n",
        ")\n",
        "\n",
        "selfcare_recommender = Agent(\n",
        "    role=\"Self-Care Recommender\",\n",
        "    goal=\"Suggest self-care activities\",\n",
        "    backstory=\"You suggest actionable self-care tips for users based on their current mood and situation.\",\n",
        "    llm=llm\n",
        ")\n",
        "\n",
        "# Tasks — use task variables to fetch results later\n",
        "task_mood = Task(\n",
        "    description=\"Analyze this message and return the user's emotional state in ONE WORD:\\n\\n'{user_input}'\",\n",
        "    expected_output=\"One word representing the user's emotion.\",\n",
        "    agent=mood_analyzer\n",
        ")\n",
        "\n",
        "task_companion = Task(\n",
        "    description=\"Respond empathetically to this message:\\n\\n'{user_input}'\",\n",
        "    expected_output=\"A short paragraph that shows understanding and emotional support.\",\n",
        "    agent=companion\n",
        ")\n",
        "\n",
        "task_selfcare = Task(\n",
        "    description=\"Recommend 2-3 practical self-care activities based on this message:\\n\\n'{user_input}'\",\n",
        "    expected_output=\"Bullet points of actionable self-care tips.\",\n",
        "    agent=selfcare_recommender\n",
        ")\n"
      ],
      "metadata": {
        "id": "svVdsCILLnxG"
      },
      "execution_count": null,
      "outputs": []
    },
    {
      "cell_type": "code",
      "source": [
        "def run_mental_health_crew(user_input):\n",
        "    task_mood.description = task_mood.description.format(user_input=user_input)\n",
        "    task_companion.description = task_companion.description.format(user_input=user_input)\n",
        "    task_selfcare.description = task_selfcare.description.format(user_input=user_input)\n",
        "\n",
        "    crew = Crew(\n",
        "        agents=[mood_analyzer, companion, selfcare_recommender],\n",
        "        tasks=[task_mood, task_companion, task_selfcare],\n",
        "        verbose=True\n",
        "    )\n",
        "\n",
        "    crew.kickoff()\n",
        "\n",
        "    return (\n",
        "        task_mood.output,\n",
        "        task_companion.output,\n",
        "        task_selfcare.output\n",
        "    )\n"
      ],
      "metadata": {
        "id": "zexLbcYLLp5Z"
      },
      "execution_count": null,
      "outputs": []
    },
    {
      "cell_type": "code",
      "source": [
        "# def handle_user_input(user_text):\n",
        "#     if not user_text.strip():\n",
        "#         return \"Please write how you're feeling.\", \"\", \"\"\n",
        "\n",
        "#     results, task_mood, task_companion, task_selfcare = run_mental_health_crew(user_text)\n",
        "\n",
        "#     return (\n",
        "#         results[task_mood].output,\n",
        "#         results[task_companion].output,\n",
        "#         results[task_selfcare].output\n",
        "#     )\n"
      ],
      "metadata": {
        "id": "qUb82ydQLr4t"
      },
      "execution_count": null,
      "outputs": []
    },
    {
      "cell_type": "code",
      "source": [
        "import gradio as gr\n",
        "\n",
        "def handle_user_input(user_text):\n",
        "    if not user_text.strip():\n",
        "        return \"Please describe how you're feeling.\", \"\", \"\"\n",
        "    mood, response, selfcare = run_mental_health_crew(user_text)\n",
        "    return mood, response, selfcare\n",
        "\n",
        "gr.Interface(\n",
        "    fn=handle_user_input,\n",
        "    inputs=gr.Textbox(label=\"How are you feeling today?\"),\n",
        "    outputs=[\n",
        "        gr.Textbox(label=\"Detected Mood\"),\n",
        "        gr.Textbox(label=\"Supportive Message\"),\n",
        "        gr.Textbox(label=\"Self-Care Tips\")\n",
        "    ],\n",
        "    title=\"Mental Health Companion\",\n",
        "    theme=\"soft\"\n",
        ").launch()\n"
      ],
      "metadata": {
        "colab": {
          "base_uri": "https://localhost:8080/",
          "height": 643
        },
        "id": "otIuwSb9Luzu",
        "outputId": "d47b0a54-4072-4c8e-c8b4-dc29bdd66ecd"
      },
      "execution_count": null,
      "outputs": [
        {
          "output_type": "stream",
          "name": "stdout",
          "text": [
            "It looks like you are running Gradio on a hosted Jupyter notebook, which requires `share=True`. Automatically setting `share=True` (you can turn this off by setting `share=False` in `launch()` explicitly).\n",
            "\n",
            "Colab notebook detected. To show errors in colab notebook, set debug=True in launch()\n",
            "* Running on public URL: https://2a16a90de8ca843d6a.gradio.live\n",
            "\n",
            "This share link expires in 1 week. For free permanent hosting and GPU upgrades, run `gradio deploy` from the terminal in the working directory to deploy to Hugging Face Spaces (https://huggingface.co/spaces)\n"
          ]
        },
        {
          "output_type": "display_data",
          "data": {
            "text/plain": [
              "<IPython.core.display.HTML object>"
            ],
            "text/html": [
              "<div><iframe src=\"https://2a16a90de8ca843d6a.gradio.live\" width=\"100%\" height=\"500\" allow=\"autoplay; camera; microphone; clipboard-read; clipboard-write;\" frameborder=\"0\" allowfullscreen></iframe></div>"
            ]
          },
          "metadata": {}
        },
        {
          "output_type": "execute_result",
          "data": {
            "text/plain": []
          },
          "metadata": {},
          "execution_count": 83
        }
      ]
    },
    {
      "cell_type": "code",
      "source": [],
      "metadata": {
        "id": "FlnnqqJbLwzn"
      },
      "execution_count": null,
      "outputs": []
    }
  ]
}